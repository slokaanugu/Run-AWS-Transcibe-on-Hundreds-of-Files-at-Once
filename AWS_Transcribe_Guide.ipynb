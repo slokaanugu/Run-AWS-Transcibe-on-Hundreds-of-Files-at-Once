{
 "cells": [
  {
   "cell_type": "markdown",
   "metadata": {},
   "source": [
    "# Your Guide to AWS Transcribe in Python!"
   ]
  },
  {
   "cell_type": "markdown",
   "metadata": {},
   "source": [
    "**Run Several Transcibe jobs at once using the Below Code:**"
   ]
  },
  {
   "cell_type": "code",
   "execution_count": null,
   "metadata": {},
   "outputs": [],
   "source": [
    "#importing needed libraries\n",
    "\n",
    "import boto3\n",
    "import os\n",
    "import logging\n",
    "from botocore.exceptions import ClientError\n",
    "from boto.s3.connection import S3Connection\n",
    "from multiprocessing import Pool\n",
    "import json\n",
    "import datetime\n",
    "import pandas as pd"
   ]
  },
  {
   "cell_type": "code",
   "execution_count": null,
   "metadata": {},
   "outputs": [],
   "source": [
    "#specify information below\n",
    "\n",
    "aws_access_key_id = ''\n",
    "aws_access_key_id = ''\n",
    "region = ''\n",
    "bucket_name = ''\n",
    "audio_file_path = ''\n",
    "output_path = ''"
   ]
  },
  {
   "cell_type": "code",
   "execution_count": null,
   "metadata": {},
   "outputs": [],
   "source": [
    "if os.path.isdir(output_path):\n",
    "    pass\n",
    "else:\n",
    "    os.mkdir(output_path)"
   ]
  },
  {
   "cell_type": "code",
   "execution_count": null,
   "metadata": {},
   "outputs": [],
   "source": [
    "#first step is to create a S3 bucket\n",
    "def create_bucket(bucket_name):\n",
    "    try:\n",
    "        s3_client = boto3.client('s3', aws_access_key_id = aws_access_key_id, \n",
    "                                        aws_secret_access_key = aws_secret_access_key, \n",
    "                                        region_name=region)\n",
    "        location = {'LocationConstraint': region}\n",
    "        s3_client.create_bucket(Bucket=bucket_name,\n",
    "                                CreateBucketConfiguration=location)\n",
    "       \n",
    "    except ClientError as e:\n",
    "        logging.error(e)\n",
    "        return False\n",
    "    return True"
   ]
  },
  {
   "cell_type": "code",
   "execution_count": null,
   "metadata": {},
   "outputs": [],
   "source": [
    "#upload local audio files in S3 bucket\n",
    "\n",
    "def upload_files(path, bucket_name):\n",
    "    session = boto3.Session(\n",
    "        aws_access_key_id=aws_access_key_id,\n",
    "        aws_secret_access_key=aws_secret_access_key,\n",
    "        region_name=region\n",
    "    )\n",
    "    s3 = session.resource('s3')\n",
    "    bucket = s3.Bucket(bucket_name)\n",
    "    \n",
    "    print (\"Uploading files...\")\n",
    "    \n",
    "    for subdir, dirs, files in os.walk(path):\n",
    "        for file in files:\n",
    "            full_path = os.path.join(subdir, file)\n",
    "            with open(full_path, 'rb') as data:\n",
    "                bucket.put_object(Key=full_path[len(path)+1:], Body=data)"
   ]
  },
  {
   "cell_type": "code",
   "execution_count": null,
   "metadata": {},
   "outputs": [],
   "source": [
    "#function to get all the file names from a S3 bucket for Transcribe\n",
    "\n",
    "def get_file_names(bucket_name):\n",
    "    s3 = boto3.client('s3', aws_access_key_id = aws_access_key_id, aws_secret_access_key =aws_secret_access_key)\n",
    "    object_listing = s3.list_objects_v2(Bucket=bucket_name)\n",
    "    file_names = [item['Key'] for item in object_listing['Contents']]\n",
    "    return file_names"
   ]
  },
  {
   "cell_type": "code",
   "execution_count": null,
   "metadata": {},
   "outputs": [],
   "source": [
    "#run AWS transcibe\n",
    "#Job name will be the name of the Audio file\n",
    "#max_speakers is the number of speakers in the audio file\n",
    "\n",
    "def amazon_transcribe(audio_file_name, LangCode, bucket_name, max_speakers = -1):\n",
    "\n",
    "    if max_speakers > 10:\n",
    "        raise ValueError(\"Maximum detected speakers is 10.\")\n",
    "\n",
    "\n",
    "    job_uri = \"https://\" + bucket_name + \".s3.\" + region + \".amazonaws.com/\" + audio_file_name\n",
    "    job_name = (audio_file_name.split('.')[0]).replace(\" \", \"\")\n",
    "    \n",
    "\n",
    "    if max_speakers != -1:\n",
    "        transcribe.start_transcription_job(\n",
    "            TranscriptionJobName = job_name,\n",
    "            Media={'MediaFileUri': job_uri},\n",
    "            MediaFormat=audio_file_name.split('.')[1],\n",
    "            LanguageCode=LangCode,\n",
    "            Settings = {'ShowSpeakerLabels': True,\n",
    "                      'MaxSpeakerLabels': max_speakers\n",
    "                      }\n",
    "        )\n",
    "    else: \n",
    "        transcribe.start_transcription_job(\n",
    "            TranscriptionJobName=job_name,\n",
    "            Media={'MediaFileUri': job_uri},\n",
    "            MediaFormat=audio_file_name.split('.')[1],\n",
    "            LanguageCode=LangCode,\n",
    "            Settings = {'ShowSpeakerLabels': True\n",
    "                        \n",
    "                      }\n",
    "        )    \n",
    "\n",
    "    while True:\n",
    "        result = transcribe.get_transcription_job(TranscriptionJobName=job_name)\n",
    "        if result['TranscriptionJob']['TranscriptionJobStatus'] in ['COMPLETED', 'FAILED']:\n",
    "            break\n",
    "    time.sleep(15)\n",
    "    \n",
    "    if result['TranscriptionJob']['TranscriptionJobStatus'] == 'COMPLETED':\n",
    "        data = pd.read_json(result['TranscriptionJob']['Transcript']['TranscriptFileUri'])\n",
    "    \n",
    "    return result "
   ]
  },
  {
   "cell_type": "code",
   "execution_count": null,
   "metadata": {},
   "outputs": [],
   "source": [
    "#read output from AWS transcribe and store output in a text file\n",
    "\n",
    "def read_output(data, audio_file_name):\n",
    "    filename = (audio_file_name).split('.')[0]\n",
    "    dir_path = os.path.dirname(os.path.realpath(__file__))\n",
    "    new_dir = os.path.join(dir_path, 'outputs')\n",
    "    if os.path.isdir(output_path):\n",
    "        pass\n",
    "    else:\n",
    "        os.mkdir(output_path)\n",
    "    \n",
    "    print('Saving ' + filename+'.txt')\n",
    "    text_file_path = os.path.join(new_dir,filename)\n",
    "    with open(text_file_path+'.txt','w', encoding='utf-8') as w:\n",
    "        labels = data['results']['speaker_labels']['segments']\n",
    "        speaker_start_times={}\n",
    "        for label in labels:\n",
    "            for item in label['items']:\n",
    "                speaker_start_times[item['start_time']] = item['speaker_label']\n",
    "        items = data['results']['items']\n",
    "        lines = []\n",
    "        line = ''\n",
    "        time = 0\n",
    "        speaker = 'null'\n",
    "        i = 0\n",
    "    \n",
    "        # loop through all elements\n",
    "        for item in items:\n",
    "            i = i+1\n",
    "            content = item['alternatives'][0]['content']\n",
    "            # if it's starting time\n",
    "            if item.get('start_time'):\n",
    "                current_speaker = speaker_start_times[item['start_time']]\n",
    "            # in AWS output, there are types as punctuation\n",
    "            elif item['type'] == 'punctuation':\n",
    "                line = line + content\n",
    "            \n",
    "            # handle different speaker\n",
    "            if current_speaker != speaker:\n",
    "                if speaker:\n",
    "                    lines.append({'speaker':speaker, 'line':line, 'time':time})\n",
    "                line = content\n",
    "                speaker = current_speaker\n",
    "                time = item['start_time']\n",
    "            elif item['type'] != 'punctuation':\n",
    "                line = line + ' ' + content\n",
    "        lines.append({'speaker': speaker, 'line': line,'time': time})       \n",
    "        # sort the results by the time\n",
    "        sorted_lines = sorted(lines,key=lambda k: float(k['time']))\n",
    "        # write into the .txt file\n",
    "        for line_data in sorted_lines:\n",
    "            line = '[' + str(datetime.timedelta(seconds=int(round(float(line_data['time']))))) + '] ' + line_data.get('speaker') + ': ' + line_data.get('line')\n",
    "            w.write(line + '\\n\\n')"
   ]
  },
  {
   "cell_type": "code",
   "execution_count": null,
   "metadata": {},
   "outputs": [],
   "source": [
    "#run AWS Transcribe for several audio files at once!\n",
    "\n",
    "def run_concurrent_files(file_name):\n",
    "        audio_file =  file_name\n",
    "        print (file_name)\n",
    "        \n",
    "        result = amazon_transcribe(audio_file_name = audio_file, \n",
    "                                    LangCode = 'en-US',\n",
    "                                    bucket_name = bucket_name,\n",
    "                                    max_speakers = 2)\n",
    "                                    \n",
    "\n",
    "        data = pd.read_json(result['TranscriptionJob']['Transcript']['TranscriptFileUri'])\n",
    "        audio_filename = audio_file.split('.')[0]\n",
    "        read_output(data, audio_filename)\n"
   ]
  },
  {
   "cell_type": "code",
   "execution_count": null,
   "metadata": {},
   "outputs": [],
   "source": [
    "#calling Transcribe\n",
    "transcribe = boto3.client('transcribe',\n",
    "    aws_access_key_id = aws_access_key_id,\n",
    "    aws_secret_access_key = aws_secret_access_key, \n",
    "    region_name = region)"
   ]
  },
  {
   "cell_type": "code",
   "execution_count": null,
   "metadata": {},
   "outputs": [],
   "source": [
    "# Main Function\n",
    "if __name__ == \"__main__\":\n",
    "    value = create_bucket(bucket_name)\n",
    "    if value == True:\n",
    "        print (\"Bucket Sucessfully Created\")\n",
    "    else:\n",
    "        print (\"Bucket Creation Unsuccesful\")\n",
    "    exit()\n",
    "    upload_files(audio_file_path, bucket_name)\n",
    "    file_names = get_file_names(bucket_name)\n",
    "    print (file_names)\n",
    "    print (len(file_names))\n",
    "    with Pool(5) as p:\n",
    "        print(p.map(run_concurrent_files, file_names))"
   ]
  },
  {
   "cell_type": "markdown",
   "metadata": {},
   "source": [
    "If you would like to run this code again for the same audio files, old jobs have to be deleted. This is because job names should be unique and in this code, we are specifying the job name as the name of the Audio File."
   ]
  },
  {
   "cell_type": "code",
   "execution_count": null,
   "metadata": {},
   "outputs": [],
   "source": [
    "#Use the below code to delete jobs\n",
    "\n",
    "existed_jobs = transcribe.list_transcription_jobs()\n",
    "total_jobs = []\n",
    "for job in existed_jobs['TranscriptionJobSummaries']:\n",
    "        total_jobs.append(job['TranscriptionJobName'])\n",
    "        \n",
    "print (total_jobs)\n",
    "                                        \n",
    "                                     \n",
    "for file in total_jobs:\n",
    "    transcribe.delete_transcription_job(TranscriptionJobName=file)"
   ]
  }
 ],
 "metadata": {
  "kernelspec": {
   "display_name": "Python 3",
   "language": "python",
   "name": "python3"
  },
  "language_info": {
   "codemirror_mode": {
    "name": "ipython",
    "version": 3
   },
   "file_extension": ".py",
   "mimetype": "text/x-python",
   "name": "python",
   "nbconvert_exporter": "python",
   "pygments_lexer": "ipython3",
   "version": "3.7.7"
  }
 },
 "nbformat": 4,
 "nbformat_minor": 4
}
